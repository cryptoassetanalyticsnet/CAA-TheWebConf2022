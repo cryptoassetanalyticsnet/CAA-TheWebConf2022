{
 "cells": [
  {
   "cell_type": "markdown",
   "id": "385a7718",
   "metadata": {},
   "source": [
    "# 2. Extracting Token Transfers\n",
    "In this excercise, we will be extracting token transfers from a single token contract.\n",
    "We will obtain these transfers from the event/log data, using web3py.\n",
    "\n",
    "As in the previous excercise, please use your own endpoint URL. You can create a free account with [Moralis.io](https://admin.moralis.io/register), and get an endpoint URL from them. You may be able to use this notebook endpoint, but you may run into rate limits if other participants are using it at the same time. Or at a later point in time this endpoint may not work at all anymore."
   ]
  },
  {
   "cell_type": "code",
   "execution_count": 1,
   "id": "db566bab",
   "metadata": {},
   "outputs": [],
   "source": [
    "endpoint = \"https://speedy-nodes-nyc.moralis.io/03c966587b022c980f59136b/eth/mainnet/archive\""
   ]
  },
  {
   "cell_type": "code",
   "execution_count": 20,
   "id": "8341fc77",
   "metadata": {},
   "outputs": [
    {
     "data": {
      "text/plain": [
       "True"
      ]
     },
     "execution_count": 20,
     "metadata": {},
     "output_type": "execute_result"
    }
   ],
   "source": [
    "from web3 import Web3\n",
    "w3 = Web3(Web3.HTTPProvider(endpoint))\n",
    "w3.isConnected()"
   ]
  },
  {
   "cell_type": "markdown",
   "id": "3e6c2e27",
   "metadata": {},
   "source": [
    "# 2.1 Defining the token contract address and extracting logs\n",
    "We can now specify a token contract address. For illustration purposes, we'll use the Bionic token contract address. (Feel free to change it!)\n",
    "\n",
    "Using the Moralis.io endpoint, we then extract logs in a certain block range, but in batches of 2000 blocks. This is the maximum range that the Moralis.io endpoint allows. If you run your own node, you could use larger intervals.\n",
    "\n",
    "The result will be event logs in JSON format, but not parsed yet. So transfer amounts would still be in hexadecimal format for example."
   ]
  },
  {
   "cell_type": "code",
   "execution_count": 22,
   "id": "e7c017fe",
   "metadata": {},
   "outputs": [],
   "source": [
    "tokenContractAddress = \"0xef51c9377feb29856e61625caf9390bd0b67ea18\" # Bionic token contract address"
   ]
  },
  {
   "cell_type": "code",
   "execution_count": 51,
   "id": "78f2a310",
   "metadata": {},
   "outputs": [
    {
     "data": {
      "application/vnd.jupyter.widget-view+json": {
       "model_id": "7976f54375bd49779c1739efb0506ff5",
       "version_major": 2,
       "version_minor": 0
      },
      "text/plain": [
       "  0%|          | 0/150 [00:00<?, ?it/s]"
      ]
     },
     "metadata": {},
     "output_type": "display_data"
    }
   ],
   "source": [
    "from tqdm.notebook import tqdm\n",
    "import itertools\n",
    "\n",
    "logLists = []\n",
    "blockStart = 6000000\n",
    "blockEnd = blockStart + 300000\n",
    "\n",
    "for blockNumber in tqdm(range(blockStart, blockEnd, 2000)):\n",
    "    logs = w3.eth.get_logs({\"fromBlock\": str(hex(blockNumber)),\n",
    "                            \"toBlock\": str(hex(blockNumber+2000)),\n",
    "                            \"address\": Web3.toChecksumAddress(tokenContractAddress),\n",
    "                            \"topics\": [Web3.keccak(text='Transfer(address,address,uint256)').hex()]})\n",
    "    logLists.append(logs)\n",
    "logs = list(itertools.chain.from_iterable(logLists))"
   ]
  },
  {
   "cell_type": "markdown",
   "id": "4e66751d",
   "metadata": {},
   "source": [
    "# 2.2 Parsing JSON logs with the Transfer event ABI\n",
    "While smart contracts written in high level languages like Solidity are compiled to EVM bytecode, accessing the bytecode functionality through function names would still be very useful. This is where the Application Binary Interface (ABI) comes in. It provides information on function and event signatures, which allows for a translation to bytecode entrypoints. EVM smart contract developers usually generate this ABI for their code. [You can obtain such ABIs from Etherscan (at the bottom of the page)](https://etherscan.io/address/0xef51c9377feb29856e61625caf9390bd0b67ea18#code), where developers frequently upload them. If you want to learn more, [quicknode has a good article on ABIs](https://www.quicknode.com/guides/solidity/what-is-an-abi)\n",
    "\n",
    "Using the ABI of a transfer event let's us easily parse event logs that conform to the token transfer signature.\n",
    "During parsing, we create a custom dictionary format because web3py's internal structure is nested and immutable."
   ]
  },
  {
   "cell_type": "code",
   "execution_count": 52,
   "id": "65a97b75",
   "metadata": {},
   "outputs": [],
   "source": [
    "import json\n",
    "# Reduced ERC-20 ABI, only Transfer event\n",
    "ABIstring = \"\"\"[ { \"anonymous\": false, \"inputs\": [\n",
    "            {   \"indexed\": true,\n",
    "                \"name\": \"from\",\n",
    "                \"type\": \"address\"\n",
    "            },\n",
    "            {   \"indexed\": true,\n",
    "                \"name\": \"to\",\n",
    "                \"type\": \"address\"\n",
    "            },\n",
    "            {   \"indexed\": false,\n",
    "                \"name\": \"value\",\n",
    "                \"type\": \"uint256\"\n",
    "            } ], \"name\": \"Transfer\", \"type\": \"event\" } ]\"\"\"\n",
    "anonERC20contract = w3.eth.contract(abi=json.loads(ABIstring))\n",
    "transferEventType = anonERC20contract.events.Transfer\n",
    "transferEventABI = transferEventType._get_event_abi()"
   ]
  },
  {
   "cell_type": "code",
   "execution_count": 53,
   "id": "fb1fec22",
   "metadata": {},
   "outputs": [],
   "source": [
    "# With the ABI, we can now parse the transfer event logs and create our custom, unnested format.\n",
    "from web3._utils.events import get_event_data\n",
    "transferEvents = []\n",
    "for log in logs:\n",
    "        log = dict(get_event_data(w3.codec, transferEventABI, log))\n",
    "        log[\"transactionHash\"] = log[\"transactionHash\"].hex()\n",
    "        del log[\"blockHash\"]\n",
    "        for k,v in log[\"args\"].items():\n",
    "            log[k] = v\n",
    "        del log[\"args\"]\n",
    "        transferEvents.append(log)"
   ]
  },
  {
   "cell_type": "markdown",
   "id": "58b28619",
   "metadata": {},
   "source": [
    "# 2.3 Creating a pandas dataframe\n",
    "At this point we can transform the transfer event JSON list into a pandas dataframe!"
   ]
  },
  {
   "cell_type": "code",
   "execution_count": 54,
   "id": "f3592c4c",
   "metadata": {},
   "outputs": [
    {
     "data": {
      "text/html": [
       "<div>\n",
       "<style scoped>\n",
       "    .dataframe tbody tr th:only-of-type {\n",
       "        vertical-align: middle;\n",
       "    }\n",
       "\n",
       "    .dataframe tbody tr th {\n",
       "        vertical-align: top;\n",
       "    }\n",
       "\n",
       "    .dataframe thead th {\n",
       "        text-align: right;\n",
       "    }\n",
       "</style>\n",
       "<table border=\"1\" class=\"dataframe\">\n",
       "  <thead>\n",
       "    <tr style=\"text-align: right;\">\n",
       "      <th></th>\n",
       "      <th>event</th>\n",
       "      <th>logIndex</th>\n",
       "      <th>transactionIndex</th>\n",
       "      <th>transactionHash</th>\n",
       "      <th>address</th>\n",
       "      <th>blockNumber</th>\n",
       "      <th>from</th>\n",
       "      <th>to</th>\n",
       "      <th>value</th>\n",
       "    </tr>\n",
       "  </thead>\n",
       "  <tbody>\n",
       "    <tr>\n",
       "      <th>0</th>\n",
       "      <td>Transfer</td>\n",
       "      <td>44</td>\n",
       "      <td>95</td>\n",
       "      <td>0x4f3f96adef9ca0444209b4844dea4049f97a74045d45...</td>\n",
       "      <td>0xEf51c9377FeB29856E61625cAf9390bD0B67eA18</td>\n",
       "      <td>6009316</td>\n",
       "      <td>0xdD2A5B646bb936CbC279CBE462E31eab2C309452</td>\n",
       "      <td>0x24cdEABeD51cCacD3199b410236Cd7E24ca1d313</td>\n",
       "      <td>2500000000000</td>\n",
       "    </tr>\n",
       "    <tr>\n",
       "      <th>1</th>\n",
       "      <td>Transfer</td>\n",
       "      <td>17</td>\n",
       "      <td>68</td>\n",
       "      <td>0xaa9369523e8aeff77c457bcc2bfbdc6f17fc0be16794...</td>\n",
       "      <td>0xEf51c9377FeB29856E61625cAf9390bD0B67eA18</td>\n",
       "      <td>6010109</td>\n",
       "      <td>0xdD2A5B646bb936CbC279CBE462E31eab2C309452</td>\n",
       "      <td>0xFe0AedEe5FaC7037b7DEc21F05a58c954df5A0F0</td>\n",
       "      <td>2500000000000</td>\n",
       "    </tr>\n",
       "    <tr>\n",
       "      <th>2</th>\n",
       "      <td>Transfer</td>\n",
       "      <td>20</td>\n",
       "      <td>29</td>\n",
       "      <td>0xfec0cb27cc608809998b6fb6ab35e5540b38de5676de...</td>\n",
       "      <td>0xEf51c9377FeB29856E61625cAf9390bD0B67eA18</td>\n",
       "      <td>6010118</td>\n",
       "      <td>0xdD2A5B646bb936CbC279CBE462E31eab2C309452</td>\n",
       "      <td>0x817F0fc8760Eac5c497697329b50f632c453a4eB</td>\n",
       "      <td>2500000000000</td>\n",
       "    </tr>\n",
       "    <tr>\n",
       "      <th>3</th>\n",
       "      <td>Transfer</td>\n",
       "      <td>46</td>\n",
       "      <td>72</td>\n",
       "      <td>0x7534c86ba66f6636c94ebf9cc46db22b77d9c70c9bc3...</td>\n",
       "      <td>0xEf51c9377FeB29856E61625cAf9390bD0B67eA18</td>\n",
       "      <td>6010123</td>\n",
       "      <td>0xdD2A5B646bb936CbC279CBE462E31eab2C309452</td>\n",
       "      <td>0x289BC64F25Af2785669DA79126a7B26A76cA956e</td>\n",
       "      <td>2500000000000</td>\n",
       "    </tr>\n",
       "    <tr>\n",
       "      <th>4</th>\n",
       "      <td>Transfer</td>\n",
       "      <td>44</td>\n",
       "      <td>85</td>\n",
       "      <td>0x2fb9ba27f354dfa73a3055f559bef749748265f400e4...</td>\n",
       "      <td>0xEf51c9377FeB29856E61625cAf9390bD0B67eA18</td>\n",
       "      <td>6010127</td>\n",
       "      <td>0xdD2A5B646bb936CbC279CBE462E31eab2C309452</td>\n",
       "      <td>0xC802506207A588cF85191B14693743d3777aDd8B</td>\n",
       "      <td>2500000000000</td>\n",
       "    </tr>\n",
       "    <tr>\n",
       "      <th>...</th>\n",
       "      <td>...</td>\n",
       "      <td>...</td>\n",
       "      <td>...</td>\n",
       "      <td>...</td>\n",
       "      <td>...</td>\n",
       "      <td>...</td>\n",
       "      <td>...</td>\n",
       "      <td>...</td>\n",
       "      <td>...</td>\n",
       "    </tr>\n",
       "    <tr>\n",
       "      <th>16925</th>\n",
       "      <td>Transfer</td>\n",
       "      <td>28</td>\n",
       "      <td>23</td>\n",
       "      <td>0x90f2ff8d20256d699e692f796ad49a51364250d6fa79...</td>\n",
       "      <td>0xEf51c9377FeB29856E61625cAf9390bD0B67eA18</td>\n",
       "      <td>6299508</td>\n",
       "      <td>0x4E33d8c2CA8c74FaD0905E42C7f3317019774f50</td>\n",
       "      <td>0x274F3c32C90517975e29Dfc209a23f315c1e5Fc7</td>\n",
       "      <td>115266668157343</td>\n",
       "    </tr>\n",
       "    <tr>\n",
       "      <th>16926</th>\n",
       "      <td>Transfer</td>\n",
       "      <td>11</td>\n",
       "      <td>18</td>\n",
       "      <td>0x04797f21607e80a5472867c7ea98cb4aa9021615fdff...</td>\n",
       "      <td>0xEf51c9377FeB29856E61625cAf9390bD0B67eA18</td>\n",
       "      <td>6299640</td>\n",
       "      <td>0xBb02AB3275D79007c0acAf381d36F6Bd78abeCbd</td>\n",
       "      <td>0x274F3c32C90517975e29Dfc209a23f315c1e5Fc7</td>\n",
       "      <td>2500000000000</td>\n",
       "    </tr>\n",
       "    <tr>\n",
       "      <th>16927</th>\n",
       "      <td>Transfer</td>\n",
       "      <td>20</td>\n",
       "      <td>50</td>\n",
       "      <td>0xfd4a1623f1f069c0525d95939c6903da33c66776e8bb...</td>\n",
       "      <td>0xEf51c9377FeB29856E61625cAf9390bD0B67eA18</td>\n",
       "      <td>6299689</td>\n",
       "      <td>0x233F0dd15867FabC5195deb251eB68432FcafD98</td>\n",
       "      <td>0x2a0c0DBEcC7E4D658f48E01e3fA353F44050c208</td>\n",
       "      <td>2500000000000</td>\n",
       "    </tr>\n",
       "    <tr>\n",
       "      <th>16928</th>\n",
       "      <td>Transfer</td>\n",
       "      <td>14</td>\n",
       "      <td>36</td>\n",
       "      <td>0x39894fc4393d779789c6597b48e6f1e0f9590d2f22bb...</td>\n",
       "      <td>0xEf51c9377FeB29856E61625cAf9390bD0B67eA18</td>\n",
       "      <td>6299823</td>\n",
       "      <td>0x1138BCa344eEec9c8e319Dbb54e05FCe726D1e3B</td>\n",
       "      <td>0x274F3c32C90517975e29Dfc209a23f315c1e5Fc7</td>\n",
       "      <td>2500000000000</td>\n",
       "    </tr>\n",
       "    <tr>\n",
       "      <th>16929</th>\n",
       "      <td>Transfer</td>\n",
       "      <td>12</td>\n",
       "      <td>21</td>\n",
       "      <td>0xe4204122d532f61566c2fcfd04979cea3eaddb0aba6d...</td>\n",
       "      <td>0xEf51c9377FeB29856E61625cAf9390bD0B67eA18</td>\n",
       "      <td>6299899</td>\n",
       "      <td>0x614dEa9564AaeBb0DCfC0396DC2dE35e87D231f6</td>\n",
       "      <td>0x274F3c32C90517975e29Dfc209a23f315c1e5Fc7</td>\n",
       "      <td>4982841224579</td>\n",
       "    </tr>\n",
       "  </tbody>\n",
       "</table>\n",
       "<p>16930 rows × 9 columns</p>\n",
       "</div>"
      ],
      "text/plain": [
       "          event  logIndex  transactionIndex  \\\n",
       "0      Transfer        44                95   \n",
       "1      Transfer        17                68   \n",
       "2      Transfer        20                29   \n",
       "3      Transfer        46                72   \n",
       "4      Transfer        44                85   \n",
       "...         ...       ...               ...   \n",
       "16925  Transfer        28                23   \n",
       "16926  Transfer        11                18   \n",
       "16927  Transfer        20                50   \n",
       "16928  Transfer        14                36   \n",
       "16929  Transfer        12                21   \n",
       "\n",
       "                                         transactionHash  \\\n",
       "0      0x4f3f96adef9ca0444209b4844dea4049f97a74045d45...   \n",
       "1      0xaa9369523e8aeff77c457bcc2bfbdc6f17fc0be16794...   \n",
       "2      0xfec0cb27cc608809998b6fb6ab35e5540b38de5676de...   \n",
       "3      0x7534c86ba66f6636c94ebf9cc46db22b77d9c70c9bc3...   \n",
       "4      0x2fb9ba27f354dfa73a3055f559bef749748265f400e4...   \n",
       "...                                                  ...   \n",
       "16925  0x90f2ff8d20256d699e692f796ad49a51364250d6fa79...   \n",
       "16926  0x04797f21607e80a5472867c7ea98cb4aa9021615fdff...   \n",
       "16927  0xfd4a1623f1f069c0525d95939c6903da33c66776e8bb...   \n",
       "16928  0x39894fc4393d779789c6597b48e6f1e0f9590d2f22bb...   \n",
       "16929  0xe4204122d532f61566c2fcfd04979cea3eaddb0aba6d...   \n",
       "\n",
       "                                          address  blockNumber  \\\n",
       "0      0xEf51c9377FeB29856E61625cAf9390bD0B67eA18      6009316   \n",
       "1      0xEf51c9377FeB29856E61625cAf9390bD0B67eA18      6010109   \n",
       "2      0xEf51c9377FeB29856E61625cAf9390bD0B67eA18      6010118   \n",
       "3      0xEf51c9377FeB29856E61625cAf9390bD0B67eA18      6010123   \n",
       "4      0xEf51c9377FeB29856E61625cAf9390bD0B67eA18      6010127   \n",
       "...                                           ...          ...   \n",
       "16925  0xEf51c9377FeB29856E61625cAf9390bD0B67eA18      6299508   \n",
       "16926  0xEf51c9377FeB29856E61625cAf9390bD0B67eA18      6299640   \n",
       "16927  0xEf51c9377FeB29856E61625cAf9390bD0B67eA18      6299689   \n",
       "16928  0xEf51c9377FeB29856E61625cAf9390bD0B67eA18      6299823   \n",
       "16929  0xEf51c9377FeB29856E61625cAf9390bD0B67eA18      6299899   \n",
       "\n",
       "                                             from  \\\n",
       "0      0xdD2A5B646bb936CbC279CBE462E31eab2C309452   \n",
       "1      0xdD2A5B646bb936CbC279CBE462E31eab2C309452   \n",
       "2      0xdD2A5B646bb936CbC279CBE462E31eab2C309452   \n",
       "3      0xdD2A5B646bb936CbC279CBE462E31eab2C309452   \n",
       "4      0xdD2A5B646bb936CbC279CBE462E31eab2C309452   \n",
       "...                                           ...   \n",
       "16925  0x4E33d8c2CA8c74FaD0905E42C7f3317019774f50   \n",
       "16926  0xBb02AB3275D79007c0acAf381d36F6Bd78abeCbd   \n",
       "16927  0x233F0dd15867FabC5195deb251eB68432FcafD98   \n",
       "16928  0x1138BCa344eEec9c8e319Dbb54e05FCe726D1e3B   \n",
       "16929  0x614dEa9564AaeBb0DCfC0396DC2dE35e87D231f6   \n",
       "\n",
       "                                               to            value  \n",
       "0      0x24cdEABeD51cCacD3199b410236Cd7E24ca1d313    2500000000000  \n",
       "1      0xFe0AedEe5FaC7037b7DEc21F05a58c954df5A0F0    2500000000000  \n",
       "2      0x817F0fc8760Eac5c497697329b50f632c453a4eB    2500000000000  \n",
       "3      0x289BC64F25Af2785669DA79126a7B26A76cA956e    2500000000000  \n",
       "4      0xC802506207A588cF85191B14693743d3777aDd8B    2500000000000  \n",
       "...                                           ...              ...  \n",
       "16925  0x274F3c32C90517975e29Dfc209a23f315c1e5Fc7  115266668157343  \n",
       "16926  0x274F3c32C90517975e29Dfc209a23f315c1e5Fc7    2500000000000  \n",
       "16927  0x2a0c0DBEcC7E4D658f48E01e3fA353F44050c208    2500000000000  \n",
       "16928  0x274F3c32C90517975e29Dfc209a23f315c1e5Fc7    2500000000000  \n",
       "16929  0x274F3c32C90517975e29Dfc209a23f315c1e5Fc7    4982841224579  \n",
       "\n",
       "[16930 rows x 9 columns]"
      ]
     },
     "execution_count": 54,
     "metadata": {},
     "output_type": "execute_result"
    }
   ],
   "source": [
    "import pandas as pd\n",
    "tokenTransfersDF = pd.DataFrame(transferEvents)\n",
    "tokenTransfersDF"
   ]
  },
  {
   "cell_type": "markdown",
   "id": "fdb4534b",
   "metadata": {},
   "source": [
    "# 2.4 Who is distributing tokens with the same value (airdrop)?\n",
    "From previous knowledge about this token network we know that there was an airdrop.\n",
    "\n",
    "Which account has airdropped the tokens? We can simply group by from address and value, and count the number of transfers:"
   ]
  },
  {
   "cell_type": "code",
   "execution_count": 93,
   "id": "856fca57",
   "metadata": {},
   "outputs": [
    {
     "data": {
      "text/html": [
       "<div>\n",
       "<style scoped>\n",
       "    .dataframe tbody tr th:only-of-type {\n",
       "        vertical-align: middle;\n",
       "    }\n",
       "\n",
       "    .dataframe tbody tr th {\n",
       "        vertical-align: top;\n",
       "    }\n",
       "\n",
       "    .dataframe thead th {\n",
       "        text-align: right;\n",
       "    }\n",
       "</style>\n",
       "<table border=\"1\" class=\"dataframe\">\n",
       "  <thead>\n",
       "    <tr style=\"text-align: right;\">\n",
       "      <th></th>\n",
       "      <th>from</th>\n",
       "      <th>value</th>\n",
       "      <th>to</th>\n",
       "    </tr>\n",
       "  </thead>\n",
       "  <tbody>\n",
       "    <tr>\n",
       "      <th>0</th>\n",
       "      <td>0xdD2A5B646bb936CbC279CBE462E31eab2C309452</td>\n",
       "      <td>2500000000000</td>\n",
       "      <td>9954</td>\n",
       "    </tr>\n",
       "    <tr>\n",
       "      <th>1</th>\n",
       "      <td>0xdD2A5B646bb936CbC279CBE462E31eab2C309452</td>\n",
       "      <td>100000000000</td>\n",
       "      <td>27</td>\n",
       "    </tr>\n",
       "    <tr>\n",
       "      <th>2</th>\n",
       "      <td>0xdD2A5B646bb936CbC279CBE462E31eab2C309452</td>\n",
       "      <td>1000000000000000</td>\n",
       "      <td>10</td>\n",
       "    </tr>\n",
       "    <tr>\n",
       "      <th>3</th>\n",
       "      <td>0x8d12A197cB00D4747a1fe03395095ce2A5CC6819</td>\n",
       "      <td>2500000000000</td>\n",
       "      <td>9</td>\n",
       "    </tr>\n",
       "    <tr>\n",
       "      <th>4</th>\n",
       "      <td>0x3c8bB860d09c8E50a4E85331F66E418d071Bf080</td>\n",
       "      <td>35000000000000</td>\n",
       "      <td>4</td>\n",
       "    </tr>\n",
       "  </tbody>\n",
       "</table>\n",
       "</div>"
      ],
      "text/plain": [
       "                                         from             value    to\n",
       "0  0xdD2A5B646bb936CbC279CBE462E31eab2C309452     2500000000000  9954\n",
       "1  0xdD2A5B646bb936CbC279CBE462E31eab2C309452      100000000000    27\n",
       "2  0xdD2A5B646bb936CbC279CBE462E31eab2C309452  1000000000000000    10\n",
       "3  0x8d12A197cB00D4747a1fe03395095ce2A5CC6819     2500000000000     9\n",
       "4  0x3c8bB860d09c8E50a4E85331F66E418d071Bf080    35000000000000     4"
      ]
     },
     "execution_count": 93,
     "metadata": {},
     "output_type": "execute_result"
    }
   ],
   "source": [
    "senders = tokenTransfersDF.groupby(['from','value']).agg({'to':'count'}).sort_values(\"to\", ascending=False)\n",
    "senders.reset_index(inplace=True)\n",
    "senders.head()"
   ]
  },
  {
   "cell_type": "markdown",
   "id": "eb4046e9",
   "metadata": {},
   "source": [
    "# 2.5 Who is receiving tokens of the same value multiple times?\n",
    "We do the same in reverse, we group by receiving address and value, and count the number of transfers:"
   ]
  },
  {
   "cell_type": "code",
   "execution_count": 90,
   "id": "0026dcfa",
   "metadata": {},
   "outputs": [
    {
     "data": {
      "text/html": [
       "<div>\n",
       "<style scoped>\n",
       "    .dataframe tbody tr th:only-of-type {\n",
       "        vertical-align: middle;\n",
       "    }\n",
       "\n",
       "    .dataframe tbody tr th {\n",
       "        vertical-align: top;\n",
       "    }\n",
       "\n",
       "    .dataframe thead th {\n",
       "        text-align: right;\n",
       "    }\n",
       "</style>\n",
       "<table border=\"1\" class=\"dataframe\">\n",
       "  <thead>\n",
       "    <tr style=\"text-align: right;\">\n",
       "      <th></th>\n",
       "      <th>to</th>\n",
       "      <th>value</th>\n",
       "      <th>from</th>\n",
       "    </tr>\n",
       "  </thead>\n",
       "  <tbody>\n",
       "    <tr>\n",
       "      <th>0</th>\n",
       "      <td>0xE6c2d451936dFCA11fa968426b93E70F8A135221</td>\n",
       "      <td>2500000000000</td>\n",
       "      <td>1072</td>\n",
       "    </tr>\n",
       "    <tr>\n",
       "      <th>1</th>\n",
       "      <td>0xF21329C8A24a19388e8eb91A7c710D6fa10dEDE6</td>\n",
       "      <td>2500000000000</td>\n",
       "      <td>688</td>\n",
       "    </tr>\n",
       "    <tr>\n",
       "      <th>2</th>\n",
       "      <td>0xC4fd7c26aE028BF42F60FA6a0eF5c32990fCdA9f</td>\n",
       "      <td>2500000000000</td>\n",
       "      <td>445</td>\n",
       "    </tr>\n",
       "    <tr>\n",
       "      <th>3</th>\n",
       "      <td>0x715D4B5180fd31Ab9ABaf63646c6AFdb3Ce37a3C</td>\n",
       "      <td>2500000000000</td>\n",
       "      <td>411</td>\n",
       "    </tr>\n",
       "    <tr>\n",
       "      <th>4</th>\n",
       "      <td>0xa02E73A0564874Cd17B82669E72daE170AcF0371</td>\n",
       "      <td>2500000000000</td>\n",
       "      <td>315</td>\n",
       "    </tr>\n",
       "  </tbody>\n",
       "</table>\n",
       "</div>"
      ],
      "text/plain": [
       "                                           to          value  from\n",
       "0  0xE6c2d451936dFCA11fa968426b93E70F8A135221  2500000000000  1072\n",
       "1  0xF21329C8A24a19388e8eb91A7c710D6fa10dEDE6  2500000000000   688\n",
       "2  0xC4fd7c26aE028BF42F60FA6a0eF5c32990fCdA9f  2500000000000   445\n",
       "3  0x715D4B5180fd31Ab9ABaf63646c6AFdb3Ce37a3C  2500000000000   411\n",
       "4  0xa02E73A0564874Cd17B82669E72daE170AcF0371  2500000000000   315"
      ]
     },
     "execution_count": 90,
     "metadata": {},
     "output_type": "execute_result"
    }
   ],
   "source": [
    "receivers = tokenTransfersDF.groupby(['to','value']).agg({'from':'count'}).sort_values(\"from\", ascending=False)\n",
    "receivers.reset_index(inplace=True)\n",
    "receivers.head()"
   ]
  },
  {
   "cell_type": "markdown",
   "id": "a85a968a",
   "metadata": {},
   "source": [
    "# 2.6 Create a token transfer graph with networkx"
   ]
  },
  {
   "cell_type": "code",
   "execution_count": 89,
   "id": "0529e6fd",
   "metadata": {},
   "outputs": [],
   "source": [
    "import networkx as nx\n",
    "G = nx.from_pandas_edgelist(df=tokenTransfersDF,\n",
    "                            source=\"from\", target=\"to\",\n",
    "                            create_using=nx.DiGraph)"
   ]
  },
  {
   "cell_type": "code",
   "execution_count": null,
   "id": "db2a064e",
   "metadata": {},
   "outputs": [],
   "source": []
  },
  {
   "cell_type": "code",
   "execution_count": 62,
   "id": "5bcc82c3",
   "metadata": {},
   "outputs": [
    {
     "data": {
      "text/html": [
       "<div>\n",
       "<style scoped>\n",
       "    .dataframe tbody tr th:only-of-type {\n",
       "        vertical-align: middle;\n",
       "    }\n",
       "\n",
       "    .dataframe tbody tr th {\n",
       "        vertical-align: top;\n",
       "    }\n",
       "\n",
       "    .dataframe thead th {\n",
       "        text-align: right;\n",
       "    }\n",
       "</style>\n",
       "<table border=\"1\" class=\"dataframe\">\n",
       "  <thead>\n",
       "    <tr style=\"text-align: right;\">\n",
       "      <th></th>\n",
       "      <th>indegree</th>\n",
       "      <th>outdegree</th>\n",
       "      <th>indegree_centrality</th>\n",
       "    </tr>\n",
       "  </thead>\n",
       "  <tbody>\n",
       "    <tr>\n",
       "      <th>0xdD2A5B646bb936CbC279CBE462E31eab2C309452</th>\n",
       "      <td>2</td>\n",
       "      <td>9828</td>\n",
       "      <td>0.000195</td>\n",
       "    </tr>\n",
       "    <tr>\n",
       "      <th>0x97126cbde15c4582cB5A76dEB1eDD1577C279F69</th>\n",
       "      <td>25</td>\n",
       "      <td>2</td>\n",
       "      <td>0.002443</td>\n",
       "    </tr>\n",
       "    <tr>\n",
       "      <th>0x79Af9E6fb38D10D6B99901faa25472D8f53ca121</th>\n",
       "      <td>13</td>\n",
       "      <td>1</td>\n",
       "      <td>0.001271</td>\n",
       "    </tr>\n",
       "    <tr>\n",
       "      <th>0xC128e3E58d9b126D2c0fA0E52FA33ea14aa6B83a</th>\n",
       "      <td>31</td>\n",
       "      <td>2</td>\n",
       "      <td>0.003030</td>\n",
       "    </tr>\n",
       "    <tr>\n",
       "      <th>0x39c9a982CfE5adB77c4B855309Dc87c12d9db4cC</th>\n",
       "      <td>29</td>\n",
       "      <td>1</td>\n",
       "      <td>0.002834</td>\n",
       "    </tr>\n",
       "    <tr>\n",
       "      <th>...</th>\n",
       "      <td>...</td>\n",
       "      <td>...</td>\n",
       "      <td>...</td>\n",
       "    </tr>\n",
       "    <tr>\n",
       "      <th>0xF21329C8A24a19388e8eb91A7c710D6fa10dEDE6</th>\n",
       "      <td>694</td>\n",
       "      <td>2</td>\n",
       "      <td>0.067826</td>\n",
       "    </tr>\n",
       "    <tr>\n",
       "      <th>0xcbd2A3423ea7095e2C4b650eD4539cc2936045dA</th>\n",
       "      <td>11</td>\n",
       "      <td>1</td>\n",
       "      <td>0.001075</td>\n",
       "    </tr>\n",
       "    <tr>\n",
       "      <th>0xcaF30aEf51f28FdAb9e0c6dD77299b67DFCa823B</th>\n",
       "      <td>39</td>\n",
       "      <td>2</td>\n",
       "      <td>0.003812</td>\n",
       "    </tr>\n",
       "    <tr>\n",
       "      <th>0x948E0e69De1d1ee9B129cDC3e61a36e7B68408d2</th>\n",
       "      <td>11</td>\n",
       "      <td>1</td>\n",
       "      <td>0.001075</td>\n",
       "    </tr>\n",
       "    <tr>\n",
       "      <th>0xBE095f2E12e2335f8E87558ddF1Ba4161b53b07D</th>\n",
       "      <td>12</td>\n",
       "      <td>1</td>\n",
       "      <td>0.001173</td>\n",
       "    </tr>\n",
       "  </tbody>\n",
       "</table>\n",
       "<p>64 rows × 3 columns</p>\n",
       "</div>"
      ],
      "text/plain": [
       "                                            indegree  outdegree  \\\n",
       "0xdD2A5B646bb936CbC279CBE462E31eab2C309452         2       9828   \n",
       "0x97126cbde15c4582cB5A76dEB1eDD1577C279F69        25          2   \n",
       "0x79Af9E6fb38D10D6B99901faa25472D8f53ca121        13          1   \n",
       "0xC128e3E58d9b126D2c0fA0E52FA33ea14aa6B83a        31          2   \n",
       "0x39c9a982CfE5adB77c4B855309Dc87c12d9db4cC        29          1   \n",
       "...                                              ...        ...   \n",
       "0xF21329C8A24a19388e8eb91A7c710D6fa10dEDE6       694          2   \n",
       "0xcbd2A3423ea7095e2C4b650eD4539cc2936045dA        11          1   \n",
       "0xcaF30aEf51f28FdAb9e0c6dD77299b67DFCa823B        39          2   \n",
       "0x948E0e69De1d1ee9B129cDC3e61a36e7B68408d2        11          1   \n",
       "0xBE095f2E12e2335f8E87558ddF1Ba4161b53b07D        12          1   \n",
       "\n",
       "                                            indegree_centrality  \n",
       "0xdD2A5B646bb936CbC279CBE462E31eab2C309452             0.000195  \n",
       "0x97126cbde15c4582cB5A76dEB1eDD1577C279F69             0.002443  \n",
       "0x79Af9E6fb38D10D6B99901faa25472D8f53ca121             0.001271  \n",
       "0xC128e3E58d9b126D2c0fA0E52FA33ea14aa6B83a             0.003030  \n",
       "0x39c9a982CfE5adB77c4B855309Dc87c12d9db4cC             0.002834  \n",
       "...                                                         ...  \n",
       "0xF21329C8A24a19388e8eb91A7c710D6fa10dEDE6             0.067826  \n",
       "0xcbd2A3423ea7095e2C4b650eD4539cc2936045dA             0.001075  \n",
       "0xcaF30aEf51f28FdAb9e0c6dD77299b67DFCa823B             0.003812  \n",
       "0x948E0e69De1d1ee9B129cDC3e61a36e7B68408d2             0.001075  \n",
       "0xBE095f2E12e2335f8E87558ddF1Ba4161b53b07D             0.001173  \n",
       "\n",
       "[64 rows x 3 columns]"
      ]
     },
     "execution_count": 62,
     "metadata": {},
     "output_type": "execute_result"
    }
   ],
   "source": [
    "nodeMeasures = pd.DataFrame(dict(\n",
    "    indegree = dict(G.in_degree),\n",
    "    outdegree = dict(G.out_degree),\n",
    "    indegree_centrality = nx.in_degree_centrality(G)\n",
    "))\n",
    "nodeMeasures[nodeMeasures.values >= 10]"
   ]
  },
  {
   "cell_type": "code",
   "execution_count": 102,
   "id": "2d4eb21b",
   "metadata": {},
   "outputs": [],
   "source": [
    "airdropNode = senders.at[0, \"from\"]\n",
    "multiReceiverNode = receivers.at[4, \"to\"] # pick a node that received many same value transfers, but not the top one\n",
    "incomingNodes = [source for (source, target) in G.in_edges(multiReceiverNode)]\n",
    "selectedNodes = [airdropNode] + incomingNodes + [multiReceiverNode]"
   ]
  },
  {
   "cell_type": "code",
   "execution_count": 104,
   "id": "5986b69b",
   "metadata": {},
   "outputs": [
    {
     "data": {
      "text/plain": [
       "637"
      ]
     },
     "execution_count": 104,
     "metadata": {},
     "output_type": "execute_result"
    }
   ],
   "source": [
    "subG = G.subgraph(nodes=selectedNodes)\n",
    "subG.number_of_edgesdges()"
   ]
  },
  {
   "cell_type": "code",
   "execution_count": 110,
   "id": "1e9ba114",
   "metadata": {},
   "outputs": [
    {
     "data": {
      "text/html": [
       "\n",
       "        <iframe\n",
       "            width=\"100%\"\n",
       "            height=\"750px\"\n",
       "            src=\"nx.html\"\n",
       "            frameborder=\"0\"\n",
       "            allowfullscreen\n",
       "            \n",
       "        ></iframe>\n",
       "        "
      ],
      "text/plain": [
       "<IPython.lib.display.IFrame at 0x7f43b08eca30>"
      ]
     },
     "execution_count": 110,
     "metadata": {},
     "output_type": "execute_result"
    }
   ],
   "source": [
    "nt = Network(height='750px', width='100%', notebook=True)\n",
    "# populates the nodes and edges data structures\n",
    "nt.from_nx(subG)\n",
    "nt.force_atlas_2based()\n",
    "nt.show('nx.html')"
   ]
  },
  {
   "cell_type": "code",
   "execution_count": 109,
   "id": "3140c055",
   "metadata": {},
   "outputs": [
    {
     "ename": "ImportError",
     "evalue": "Matplotlib required for draw()",
     "output_type": "error",
     "traceback": [
      "\u001b[0;31m---------------------------------------------------------------------------\u001b[0m",
      "\u001b[0;31mModuleNotFoundError\u001b[0m                       Traceback (most recent call last)",
      "File \u001b[0;32m~/applications/anaconda3/envs/caa-tutorial/lib/python3.9/site-packages/networkx/drawing/nx_pylab.py:102\u001b[0m, in \u001b[0;36mdraw\u001b[0;34m(G, pos, ax, **kwds)\u001b[0m\n\u001b[1;32m    101\u001b[0m \u001b[38;5;28;01mtry\u001b[39;00m:\n\u001b[0;32m--> 102\u001b[0m     \u001b[38;5;28;01mimport\u001b[39;00m \u001b[38;5;21;01mmatplotlib\u001b[39;00m\u001b[38;5;21;01m.\u001b[39;00m\u001b[38;5;21;01mpyplot\u001b[39;00m \u001b[38;5;28;01mas\u001b[39;00m \u001b[38;5;21;01mplt\u001b[39;00m\n\u001b[1;32m    103\u001b[0m \u001b[38;5;28;01mexcept\u001b[39;00m \u001b[38;5;167;01mImportError\u001b[39;00m \u001b[38;5;28;01mas\u001b[39;00m e:\n",
      "\u001b[0;31mModuleNotFoundError\u001b[0m: No module named 'matplotlib'",
      "\nThe above exception was the direct cause of the following exception:\n",
      "\u001b[0;31mImportError\u001b[0m                               Traceback (most recent call last)",
      "Input \u001b[0;32mIn [109]\u001b[0m, in \u001b[0;36m<cell line: 1>\u001b[0;34m()\u001b[0m\n\u001b[0;32m----> 1\u001b[0m \u001b[43mnx\u001b[49m\u001b[38;5;241;43m.\u001b[39;49m\u001b[43mdraw\u001b[49m\u001b[43m(\u001b[49m\u001b[43msubG\u001b[49m\u001b[43m)\u001b[49m\n",
      "File \u001b[0;32m~/applications/anaconda3/envs/caa-tutorial/lib/python3.9/site-packages/networkx/drawing/nx_pylab.py:104\u001b[0m, in \u001b[0;36mdraw\u001b[0;34m(G, pos, ax, **kwds)\u001b[0m\n\u001b[1;32m    102\u001b[0m     \u001b[38;5;28;01mimport\u001b[39;00m \u001b[38;5;21;01mmatplotlib\u001b[39;00m\u001b[38;5;21;01m.\u001b[39;00m\u001b[38;5;21;01mpyplot\u001b[39;00m \u001b[38;5;28;01mas\u001b[39;00m \u001b[38;5;21;01mplt\u001b[39;00m\n\u001b[1;32m    103\u001b[0m \u001b[38;5;28;01mexcept\u001b[39;00m \u001b[38;5;167;01mImportError\u001b[39;00m \u001b[38;5;28;01mas\u001b[39;00m e:\n\u001b[0;32m--> 104\u001b[0m     \u001b[38;5;28;01mraise\u001b[39;00m \u001b[38;5;167;01mImportError\u001b[39;00m(\u001b[38;5;124m\"\u001b[39m\u001b[38;5;124mMatplotlib required for draw()\u001b[39m\u001b[38;5;124m\"\u001b[39m) \u001b[38;5;28;01mfrom\u001b[39;00m \u001b[38;5;21;01me\u001b[39;00m\n\u001b[1;32m    105\u001b[0m \u001b[38;5;28;01mexcept\u001b[39;00m \u001b[38;5;167;01mRuntimeError\u001b[39;00m:\n\u001b[1;32m    106\u001b[0m     \u001b[38;5;28mprint\u001b[39m(\u001b[38;5;124m\"\u001b[39m\u001b[38;5;124mMatplotlib unable to open display\u001b[39m\u001b[38;5;124m\"\u001b[39m)\n",
      "\u001b[0;31mImportError\u001b[0m: Matplotlib required for draw()"
     ]
    }
   ],
   "source": [
    "nx.draw(subG)"
   ]
  },
  {
   "cell_type": "code",
   "execution_count": 106,
   "id": "47a363f9",
   "metadata": {},
   "outputs": [],
   "source": [
    "from pyvis.network import Network"
   ]
  },
  {
   "cell_type": "code",
   "execution_count": 19,
   "id": "665fdca3",
   "metadata": {},
   "outputs": [],
   "source": [
    "transferNetwork = Network(height='750px', width='100%', notebook=True)\n",
    "# set the physics layout of the network\n",
    "transferNetwork.barnes_hut()\n",
    "\n",
    "sampleSize = 500\n",
    "for row in tokenTransfersDF.sample(sampleSize)[[\"from\",\"to\"]].to_dict('records'):\n",
    "    transferNetwork.add_node(row[\"from\"], row[\"from\"], title=row[\"from\"])\n",
    "    transferNetwork.add_node(row[\"to\"], row[\"to\"], title=row[\"to\"])\n",
    "    transferNetwork.add_edge(row[\"from\"], row[\"to\"], value=1)"
   ]
  },
  {
   "cell_type": "code",
   "execution_count": 20,
   "id": "4d6c4366",
   "metadata": {},
   "outputs": [
    {
     "data": {
      "text/html": [
       "\n",
       "        <iframe\n",
       "            width=\"100%\"\n",
       "            height=\"750px\"\n",
       "            src=\"tokenTransferGraph.html\"\n",
       "            frameborder=\"0\"\n",
       "            allowfullscreen\n",
       "            \n",
       "        ></iframe>\n",
       "        "
      ],
      "text/plain": [
       "<IPython.lib.display.IFrame at 0x7ff31c33d3a0>"
      ]
     },
     "execution_count": 20,
     "metadata": {},
     "output_type": "execute_result"
    }
   ],
   "source": [
    "transferNetwork.show(\"tokenTransferGraph.html\")"
   ]
  },
  {
   "cell_type": "code",
   "execution_count": null,
   "id": "dba2a955",
   "metadata": {},
   "outputs": [],
   "source": []
  },
  {
   "cell_type": "code",
   "execution_count": null,
   "id": "6f40b40f",
   "metadata": {},
   "outputs": [],
   "source": []
  },
  {
   "cell_type": "code",
   "execution_count": null,
   "id": "4bc63919",
   "metadata": {},
   "outputs": [],
   "source": []
  },
  {
   "cell_type": "code",
   "execution_count": null,
   "id": "c084ff88",
   "metadata": {},
   "outputs": [],
   "source": []
  },
  {
   "cell_type": "code",
   "execution_count": null,
   "id": "4f061d66",
   "metadata": {},
   "outputs": [],
   "source": []
  },
  {
   "cell_type": "code",
   "execution_count": 13,
   "id": "205aa9f2",
   "metadata": {},
   "outputs": [
    {
     "data": {
      "text/plain": [
       "1366272683043014078604117687716855698063859640856"
      ]
     },
     "execution_count": 13,
     "metadata": {},
     "output_type": "execute_result"
    }
   ],
   "source": [
    "0xef51c9377feb29856e61625caf9390bd0b67ea18 # bionic"
   ]
  }
 ],
 "metadata": {
  "kernelspec": {
   "display_name": "Python 3 (ipykernel)",
   "language": "python",
   "name": "python3"
  },
  "language_info": {
   "codemirror_mode": {
    "name": "ipython",
    "version": 3
   },
   "file_extension": ".py",
   "mimetype": "text/x-python",
   "name": "python",
   "nbconvert_exporter": "python",
   "pygments_lexer": "ipython3",
   "version": "3.9.7"
  }
 },
 "nbformat": 4,
 "nbformat_minor": 5
}
