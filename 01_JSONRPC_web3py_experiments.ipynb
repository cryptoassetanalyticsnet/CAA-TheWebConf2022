{
 "cells": [
  {
   "cell_type": "markdown",
   "id": "4b18f21d",
   "metadata": {},
   "source": [
    "# 1. Experimenting with a node endpoint\n",
    "In this first example, we will explore how to access data from an Ethereum node.\n",
    "\n",
    "Please create a free account with [Moralis.io](https://admin.moralis.io/register), and get your own endpoint URL. You may be able to use this notebook endpoint, but you may run into rate limits if other participants are using it at the same time. Or at a later point in time this endpoint may not work at all anymore."
   ]
  },
  {
   "cell_type": "code",
   "execution_count": 1,
   "id": "258a3d47",
   "metadata": {},
   "outputs": [],
   "source": [
    "endpoint = \"http://localhost:8545\""
   ]
  },
  {
   "cell_type": "markdown",
   "id": "bc4d6a9a",
   "metadata": {},
   "source": [
    "## 1.1 Raw requests\n",
    "At first, we'll be making a raw request and get a JSON response about a single block and its transactions."
   ]
  },
  {
   "cell_type": "code",
   "execution_count": 2,
   "id": "67857f76",
   "metadata": {},
   "outputs": [],
   "source": [
    "import json\n",
    "import requests"
   ]
  },
  {
   "cell_type": "code",
   "execution_count": 3,
   "id": "10e004c2",
   "metadata": {},
   "outputs": [],
   "source": [
    "def create_request(method, params):\n",
    "    payload = json.dumps({\"method\": method, \"params\": params, \"id\": 1, \"jsonrpc\": \"2.0\"})\n",
    "    headers = {'content-type': \"application/json\"}\n",
    "    try:\n",
    "        response = requests.request(\"POST\", endpoint, data=payload, headers=headers)\n",
    "        return(json.loads(response.text))\n",
    "    except requests.exceptions.RequestException as e:\n",
    "        print(e)\n",
    "    except:\n",
    "        print('No response from endpoint!')"
   ]
  },
  {
   "cell_type": "code",
   "execution_count": 4,
   "id": "ef0a5768",
   "metadata": {},
   "outputs": [],
   "source": [
    "blockNumber = 50010\n",
    "response = create_request(method=\"eth_getBlockByNumber\", params=[hex(blockNumber),True])"
   ]
  },
  {
   "cell_type": "markdown",
   "id": "7c89c04c",
   "metadata": {},
   "source": [
    "## 1.2 A block JSON\n",
    "Lets look at the raw JSON output of this request.\n",
    "It consists of block metadata, and a list of transactions that are contained in the block."
   ]
  },
  {
   "cell_type": "code",
   "execution_count": 5,
   "id": "2c87bdae",
   "metadata": {},
   "outputs": [
    {
     "data": {
      "text/plain": [
       "{'author': '0xeb1325c8d9d3ea8d74ac11f4b00f1b2367686319',\n",
       " 'difficulty': '0x15c461e952d',\n",
       " 'extraData': '0x476574682f76312e302e312f77696e646f77732f676f312e342e32',\n",
       " 'gasLimit': '0x4ab70',\n",
       " 'gasUsed': '0xa8d8',\n",
       " 'hash': '0x9b39a465d46cfcb352ea76e95037826dae53cb0d5e69098d1f55056e83eaadc4',\n",
       " 'logsBloom': '0x00000000000000000000000000000000000000000000000000000000000000000000000000000000000000000000000000000000000000000000000000000000000000000000000000000000000000000000000000000000000000000000000000000000000000000000000000000000000000000000000000000000000000000000000000000000000000000000000000000000000000000000000000000000000000000000000000000000000000000000000000000000000000000000000000000000000000000000000000000000000000000000000000000000000000000000000000000000000000000000000000000000000000000000000000000000',\n",
       " 'miner': '0xeb1325c8d9d3ea8d74ac11f4b00f1b2367686319',\n",
       " 'mixHash': '0x8f4e5db4697e918b76c487da5245e01c5ce917c068eda688c985caba9e64cdf9',\n",
       " 'nonce': '0x9e2cb6340a25c0c1',\n",
       " 'number': '0xc35a',\n",
       " 'parentHash': '0xd50f3c8fd10d26b044d5e7817fea789a4643277e8056e0d33a4343d0d31ea096',\n",
       " 'receiptsRoot': '0xbfcbc23508e444b76effdfc9e93f9e7dd7c0c9e02119db89584d35818eb30f15',\n",
       " 'sealFields': ['0xa08f4e5db4697e918b76c487da5245e01c5ce917c068eda688c985caba9e64cdf9',\n",
       "  '0x889e2cb6340a25c0c1'],\n",
       " 'sha3Uncles': '0x1dcc4de8dec75d7aab85b567b6ccd41ad312451b948a7413f0a142fd40d49347',\n",
       " 'size': '0x314',\n",
       " 'stateRoot': '0xefd1f973e7a97f1c5650ee6ecbdd706e28046152737a0acfc4832927b34b75b2',\n",
       " 'timestamp': '0x55c5224b',\n",
       " 'totalDifficulty': '0xabc64b69bd7ca7',\n",
       " 'transactions': [{'blockHash': '0x9b39a465d46cfcb352ea76e95037826dae53cb0d5e69098d1f55056e83eaadc4',\n",
       "   'blockNumber': '0xc35a',\n",
       "   'chainId': None,\n",
       "   'condition': None,\n",
       "   'creates': None,\n",
       "   'from': '0x86f05d19063e9369c6004eb3f123943a7cff4eab',\n",
       "   'gas': '0xc350',\n",
       "   'gasPrice': '0x110c8f7d8de',\n",
       "   'hash': '0x79cc56eba86030510093c7f5396664f4d525b85c2efee13767fe96faf10db047',\n",
       "   'input': '0x454e5057364e524638',\n",
       "   'nonce': '0x0',\n",
       "   'publicKey': '0x2f58cf242447014059c7bcb467645c1df89f4cf187a263ae2cbf34b3a7b1e4ee8eb464bbd6171800265ce43b2252b2f4814f9bfb7445ceef675c1cb878ddf5e2',\n",
       "   'r': '0x7cbf8f47ab69d27e095737d0841e0f0697f313acd20853b89813d319ccb9a428',\n",
       "   'raw': '0xf87780860110c8f7d8de82c350942910543af39aba0cd09dbb2d50200b3e800a63d28966ffcbfd5e5a30000089454e5057364e5246381ca07cbf8f47ab69d27e095737d0841e0f0697f313acd20853b89813d319ccb9a428a05db629472c555572a0260734afaa4cefa183d629d5d83fcec0ae0291a5e08062',\n",
       "   's': '0x5db629472c555572a0260734afaa4cefa183d629d5d83fcec0ae0291a5e08062',\n",
       "   'standardV': '0x1',\n",
       "   'to': '0x2910543af39aba0cd09dbb2d50200b3e800a63d2',\n",
       "   'transactionIndex': '0x0',\n",
       "   'type': '0x0',\n",
       "   'v': '0x1c',\n",
       "   'value': '0x66ffcbfd5e5a300000'},\n",
       "  {'blockHash': '0x9b39a465d46cfcb352ea76e95037826dae53cb0d5e69098d1f55056e83eaadc4',\n",
       "   'blockNumber': '0xc35a',\n",
       "   'chainId': None,\n",
       "   'condition': None,\n",
       "   'creates': None,\n",
       "   'from': '0x3f98e477a361f777da14611a7e419a75fd238b6b',\n",
       "   'gas': '0x15f90',\n",
       "   'gasPrice': '0xdbf59a056',\n",
       "   'hash': '0x7f38c6ea766776995ea214b0027ee58090ef21ad7192c2cad9934435f5b287ce',\n",
       "   'input': '0x454e414a33474d4352',\n",
       "   'nonce': '0x3',\n",
       "   'publicKey': '0xfbc8c6a563218b2d6ddbcf363898520f8f74eb8345e5561506cef5e35f0edc50f9704fa20b8bd8a335f2613007fbce0f990c506fc5cd8d44c12bbfba514f4d3c',\n",
       "   'r': '0xdd7895046f193936205070427cf0b68cc29428c478801fd2e5efa8c42939ce09',\n",
       "   'raw': '0xf87703850dbf59a05683015f90942910543af39aba0cd09dbb2d50200b3e800a63d2891b1ae4d6e2ef50000089454e414a33474d43521ba0dd7895046f193936205070427cf0b68cc29428c478801fd2e5efa8c42939ce09a062b2c49472834230b71519d1b05e3e284ffe4e2d31e73ab5aaba7486dcac3225',\n",
       "   's': '0x62b2c49472834230b71519d1b05e3e284ffe4e2d31e73ab5aaba7486dcac3225',\n",
       "   'standardV': '0x0',\n",
       "   'to': '0x2910543af39aba0cd09dbb2d50200b3e800a63d2',\n",
       "   'transactionIndex': '0x1',\n",
       "   'type': '0x0',\n",
       "   'v': '0x1b',\n",
       "   'value': '0x1b1ae4d6e2ef500000'}],\n",
       " 'transactionsRoot': '0xe7866f3f21174fd21ced78cccebe8139890c481c4ff3f194ca9391c571386350',\n",
       " 'uncles': []}"
      ]
     },
     "execution_count": 5,
     "metadata": {},
     "output_type": "execute_result"
    }
   ],
   "source": [
    "blockWithTX = response[\"result\"]\n",
    "blockWithTX"
   ]
  },
  {
   "cell_type": "code",
   "execution_count": 6,
   "id": "d5c1dfe0",
   "metadata": {},
   "outputs": [
    {
     "data": {
      "text/plain": [
       "2"
      ]
     },
     "execution_count": 6,
     "metadata": {},
     "output_type": "execute_result"
    }
   ],
   "source": [
    "len(blockWithTX[\"transactions\"]) # How many transactions are contained in this block?"
   ]
  },
  {
   "cell_type": "markdown",
   "id": "246bacd8",
   "metadata": {},
   "source": [
    "## 1.3 A transaction JSON"
   ]
  },
  {
   "cell_type": "code",
   "execution_count": 7,
   "id": "a1cc3d87",
   "metadata": {},
   "outputs": [
    {
     "data": {
      "text/plain": [
       "{'blockHash': '0x9b39a465d46cfcb352ea76e95037826dae53cb0d5e69098d1f55056e83eaadc4',\n",
       " 'blockNumber': '0xc35a',\n",
       " 'chainId': None,\n",
       " 'condition': None,\n",
       " 'creates': None,\n",
       " 'from': '0x86f05d19063e9369c6004eb3f123943a7cff4eab',\n",
       " 'gas': '0xc350',\n",
       " 'gasPrice': '0x110c8f7d8de',\n",
       " 'hash': '0x79cc56eba86030510093c7f5396664f4d525b85c2efee13767fe96faf10db047',\n",
       " 'input': '0x454e5057364e524638',\n",
       " 'nonce': '0x0',\n",
       " 'publicKey': '0x2f58cf242447014059c7bcb467645c1df89f4cf187a263ae2cbf34b3a7b1e4ee8eb464bbd6171800265ce43b2252b2f4814f9bfb7445ceef675c1cb878ddf5e2',\n",
       " 'r': '0x7cbf8f47ab69d27e095737d0841e0f0697f313acd20853b89813d319ccb9a428',\n",
       " 'raw': '0xf87780860110c8f7d8de82c350942910543af39aba0cd09dbb2d50200b3e800a63d28966ffcbfd5e5a30000089454e5057364e5246381ca07cbf8f47ab69d27e095737d0841e0f0697f313acd20853b89813d319ccb9a428a05db629472c555572a0260734afaa4cefa183d629d5d83fcec0ae0291a5e08062',\n",
       " 's': '0x5db629472c555572a0260734afaa4cefa183d629d5d83fcec0ae0291a5e08062',\n",
       " 'standardV': '0x1',\n",
       " 'to': '0x2910543af39aba0cd09dbb2d50200b3e800a63d2',\n",
       " 'transactionIndex': '0x0',\n",
       " 'type': '0x0',\n",
       " 'v': '0x1c',\n",
       " 'value': '0x66ffcbfd5e5a300000'}"
      ]
     },
     "execution_count": 7,
     "metadata": {},
     "output_type": "execute_result"
    }
   ],
   "source": [
    "blockWithTX[\"transactions\"][0]"
   ]
  },
  {
   "cell_type": "code",
   "execution_count": 8,
   "id": "0f2219d1",
   "metadata": {},
   "outputs": [],
   "source": [
    "#  r and s are outputs of an ECDSA signature, and v is the recovery id.\n",
    "# https://bitcoin.stackexchange.com/questions/38351/ecdsa-v-r-s-what-is-v"
   ]
  },
  {
   "cell_type": "markdown",
   "id": "4bf39747",
   "metadata": {},
   "source": [
    "## 1.4 Using web3py\n",
    "At this point it's becoming clear that these json results contain mostly hexadecimal values, which is unwieldy.\n",
    "\n",
    "Let's use web3py to have these values automatically converted to integers where applicable. This has the additional benefit that we can write less code."
   ]
  },
  {
   "cell_type": "code",
   "execution_count": 9,
   "id": "7c8c4bdc",
   "metadata": {},
   "outputs": [],
   "source": [
    "from web3 import Web3"
   ]
  },
  {
   "cell_type": "code",
   "execution_count": 10,
   "id": "26b64a87",
   "metadata": {},
   "outputs": [
    {
     "data": {
      "text/plain": [
       "True"
      ]
     },
     "execution_count": 10,
     "metadata": {},
     "output_type": "execute_result"
    }
   ],
   "source": [
    "w3 = Web3(Web3.HTTPProvider(endpoint))\n",
    "w3.isConnected()"
   ]
  },
  {
   "cell_type": "code",
   "execution_count": 11,
   "id": "773059f3",
   "metadata": {},
   "outputs": [
    {
     "data": {
      "text/plain": [
       "AttributeDict({'author': '0xeb1325c8d9d3ea8d74ac11f4b00f1b2367686319',\n",
       " 'difficulty': 1495825028397,\n",
       " 'extraData': HexBytes('0x476574682f76312e302e312f77696e646f77732f676f312e342e32'),\n",
       " 'gasLimit': 306032,\n",
       " 'gasUsed': 43224,\n",
       " 'hash': HexBytes('0x9b39a465d46cfcb352ea76e95037826dae53cb0d5e69098d1f55056e83eaadc4'),\n",
       " 'logsBloom': HexBytes('0x00000000000000000000000000000000000000000000000000000000000000000000000000000000000000000000000000000000000000000000000000000000000000000000000000000000000000000000000000000000000000000000000000000000000000000000000000000000000000000000000000000000000000000000000000000000000000000000000000000000000000000000000000000000000000000000000000000000000000000000000000000000000000000000000000000000000000000000000000000000000000000000000000000000000000000000000000000000000000000000000000000000000000000000000000000000'),\n",
       " 'miner': '0xeB1325C8D9d3ea8D74aC11F4B00F1B2367686319',\n",
       " 'mixHash': HexBytes('0x8f4e5db4697e918b76c487da5245e01c5ce917c068eda688c985caba9e64cdf9'),\n",
       " 'nonce': HexBytes('0x9e2cb6340a25c0c1'),\n",
       " 'number': 50010,\n",
       " 'parentHash': HexBytes('0xd50f3c8fd10d26b044d5e7817fea789a4643277e8056e0d33a4343d0d31ea096'),\n",
       " 'receiptsRoot': HexBytes('0xbfcbc23508e444b76effdfc9e93f9e7dd7c0c9e02119db89584d35818eb30f15'),\n",
       " 'sealFields': ['0xa08f4e5db4697e918b76c487da5245e01c5ce917c068eda688c985caba9e64cdf9',\n",
       "  '0x889e2cb6340a25c0c1'],\n",
       " 'sha3Uncles': HexBytes('0x1dcc4de8dec75d7aab85b567b6ccd41ad312451b948a7413f0a142fd40d49347'),\n",
       " 'size': 788,\n",
       " 'stateRoot': HexBytes('0xefd1f973e7a97f1c5650ee6ecbdd706e28046152737a0acfc4832927b34b75b2'),\n",
       " 'timestamp': 1438982731,\n",
       " 'totalDifficulty': 48350248216394919,\n",
       " 'transactions': [AttributeDict({'blockHash': HexBytes('0x9b39a465d46cfcb352ea76e95037826dae53cb0d5e69098d1f55056e83eaadc4'),\n",
       "   'blockNumber': 50010,\n",
       "   'chainId': None,\n",
       "   'condition': None,\n",
       "   'creates': None,\n",
       "   'from': '0x86F05d19063e9369c6004eB3F123943A7cfF4eaB',\n",
       "   'gas': 50000,\n",
       "   'gasPrice': 1171602790622,\n",
       "   'hash': HexBytes('0x79cc56eba86030510093c7f5396664f4d525b85c2efee13767fe96faf10db047'),\n",
       "   'input': '0x454e5057364e524638',\n",
       "   'nonce': 0,\n",
       "   'publicKey': HexBytes('0x2f58cf242447014059c7bcb467645c1df89f4cf187a263ae2cbf34b3a7b1e4ee8eb464bbd6171800265ce43b2252b2f4814f9bfb7445ceef675c1cb878ddf5e2'),\n",
       "   'r': HexBytes('0x7cbf8f47ab69d27e095737d0841e0f0697f313acd20853b89813d319ccb9a428'),\n",
       "   'raw': HexBytes('0xf87780860110c8f7d8de82c350942910543af39aba0cd09dbb2d50200b3e800a63d28966ffcbfd5e5a30000089454e5057364e5246381ca07cbf8f47ab69d27e095737d0841e0f0697f313acd20853b89813d319ccb9a428a05db629472c555572a0260734afaa4cefa183d629d5d83fcec0ae0291a5e08062'),\n",
       "   's': HexBytes('0x5db629472c555572a0260734afaa4cefa183d629d5d83fcec0ae0291a5e08062'),\n",
       "   'standardV': 1,\n",
       "   'to': '0x2910543Af39abA0Cd09dBb2D50200b3E800A63D2',\n",
       "   'transactionIndex': 0,\n",
       "   'type': '0x0',\n",
       "   'v': 28,\n",
       "   'value': 1900000000000000000000}),\n",
       "  AttributeDict({'blockHash': HexBytes('0x9b39a465d46cfcb352ea76e95037826dae53cb0d5e69098d1f55056e83eaadc4'),\n",
       "   'blockNumber': 50010,\n",
       "   'chainId': None,\n",
       "   'condition': None,\n",
       "   'creates': None,\n",
       "   'from': '0x3F98e477a361F777DA14611a7e419A75Fd238b6b',\n",
       "   'gas': 90000,\n",
       "   'gasPrice': 59044896854,\n",
       "   'hash': HexBytes('0x7f38c6ea766776995ea214b0027ee58090ef21ad7192c2cad9934435f5b287ce'),\n",
       "   'input': '0x454e414a33474d4352',\n",
       "   'nonce': 3,\n",
       "   'publicKey': HexBytes('0xfbc8c6a563218b2d6ddbcf363898520f8f74eb8345e5561506cef5e35f0edc50f9704fa20b8bd8a335f2613007fbce0f990c506fc5cd8d44c12bbfba514f4d3c'),\n",
       "   'r': HexBytes('0xdd7895046f193936205070427cf0b68cc29428c478801fd2e5efa8c42939ce09'),\n",
       "   'raw': HexBytes('0xf87703850dbf59a05683015f90942910543af39aba0cd09dbb2d50200b3e800a63d2891b1ae4d6e2ef50000089454e414a33474d43521ba0dd7895046f193936205070427cf0b68cc29428c478801fd2e5efa8c42939ce09a062b2c49472834230b71519d1b05e3e284ffe4e2d31e73ab5aaba7486dcac3225'),\n",
       "   's': HexBytes('0x62b2c49472834230b71519d1b05e3e284ffe4e2d31e73ab5aaba7486dcac3225'),\n",
       "   'standardV': 0,\n",
       "   'to': '0x2910543Af39abA0Cd09dBb2D50200b3E800A63D2',\n",
       "   'transactionIndex': 1,\n",
       "   'type': '0x0',\n",
       "   'v': 27,\n",
       "   'value': 500000000000000000000})],\n",
       " 'transactionsRoot': HexBytes('0xe7866f3f21174fd21ced78cccebe8139890c481c4ff3f194ca9391c571386350'),\n",
       " 'uncles': []})"
      ]
     },
     "execution_count": 11,
     "metadata": {},
     "output_type": "execute_result"
    }
   ],
   "source": [
    "blockWithTX = w3.eth.get_block(hex(blockNumber), full_transactions=True)\n",
    "blockWithTX"
   ]
  },
  {
   "cell_type": "code",
   "execution_count": 12,
   "id": "4c847a88",
   "metadata": {},
   "outputs": [
    {
     "data": {
      "text/plain": [
       "AttributeDict({'blockHash': HexBytes('0x9b39a465d46cfcb352ea76e95037826dae53cb0d5e69098d1f55056e83eaadc4'),\n",
       " 'blockNumber': 50010,\n",
       " 'chainId': None,\n",
       " 'condition': None,\n",
       " 'creates': None,\n",
       " 'from': '0x86F05d19063e9369c6004eB3F123943A7cfF4eaB',\n",
       " 'gas': 50000,\n",
       " 'gasPrice': 1171602790622,\n",
       " 'hash': HexBytes('0x79cc56eba86030510093c7f5396664f4d525b85c2efee13767fe96faf10db047'),\n",
       " 'input': '0x454e5057364e524638',\n",
       " 'nonce': 0,\n",
       " 'publicKey': HexBytes('0x2f58cf242447014059c7bcb467645c1df89f4cf187a263ae2cbf34b3a7b1e4ee8eb464bbd6171800265ce43b2252b2f4814f9bfb7445ceef675c1cb878ddf5e2'),\n",
       " 'r': HexBytes('0x7cbf8f47ab69d27e095737d0841e0f0697f313acd20853b89813d319ccb9a428'),\n",
       " 'raw': HexBytes('0xf87780860110c8f7d8de82c350942910543af39aba0cd09dbb2d50200b3e800a63d28966ffcbfd5e5a30000089454e5057364e5246381ca07cbf8f47ab69d27e095737d0841e0f0697f313acd20853b89813d319ccb9a428a05db629472c555572a0260734afaa4cefa183d629d5d83fcec0ae0291a5e08062'),\n",
       " 's': HexBytes('0x5db629472c555572a0260734afaa4cefa183d629d5d83fcec0ae0291a5e08062'),\n",
       " 'standardV': 1,\n",
       " 'to': '0x2910543Af39abA0Cd09dBb2D50200b3E800A63D2',\n",
       " 'transactionIndex': 0,\n",
       " 'type': '0x0',\n",
       " 'v': 28,\n",
       " 'value': 1900000000000000000000})"
      ]
     },
     "execution_count": 12,
     "metadata": {},
     "output_type": "execute_result"
    }
   ],
   "source": [
    "blockWithTX.transactions[0]"
   ]
  },
  {
   "cell_type": "markdown",
   "id": "14909045",
   "metadata": {},
   "source": [
    "Notice how the **from** and **to** addresses are now partially uppercase?\n",
    "These are the checksummed versions of the lowercase addreses. This case-sensivity is used for checksum validation. The address is compared against the raw binary keccak-256 hash of the address bytes, and where there are letters in the same corresponding place as a \"1\" bit, the letter is capitalized. Just make sure you either always use checksum addreses or lowercase addresses. Otherwise your analysis might perceive the same address as two different ones!"
   ]
  },
  {
   "cell_type": "markdown",
   "id": "d47af308",
   "metadata": {},
   "source": [
    "## 1.5 Let's turn the transaction JSON into a dataframe"
   ]
  },
  {
   "cell_type": "code",
   "execution_count": 13,
   "id": "a1e58f7c",
   "metadata": {},
   "outputs": [
    {
     "data": {
      "text/html": [
       "<div>\n",
       "<style scoped>\n",
       "    .dataframe tbody tr th:only-of-type {\n",
       "        vertical-align: middle;\n",
       "    }\n",
       "\n",
       "    .dataframe tbody tr th {\n",
       "        vertical-align: top;\n",
       "    }\n",
       "\n",
       "    .dataframe thead th {\n",
       "        text-align: right;\n",
       "    }\n",
       "</style>\n",
       "<table border=\"1\" class=\"dataframe\">\n",
       "  <thead>\n",
       "    <tr style=\"text-align: right;\">\n",
       "      <th></th>\n",
       "      <th>from</th>\n",
       "      <th>to</th>\n",
       "      <th>value</th>\n",
       "    </tr>\n",
       "  </thead>\n",
       "  <tbody>\n",
       "    <tr>\n",
       "      <th>0</th>\n",
       "      <td>0x86F05d19063e9369c6004eB3F123943A7cfF4eaB</td>\n",
       "      <td>0x2910543Af39abA0Cd09dBb2D50200b3E800A63D2</td>\n",
       "      <td>1900000000000000000000</td>\n",
       "    </tr>\n",
       "    <tr>\n",
       "      <th>1</th>\n",
       "      <td>0x3F98e477a361F777DA14611a7e419A75Fd238b6b</td>\n",
       "      <td>0x2910543Af39abA0Cd09dBb2D50200b3E800A63D2</td>\n",
       "      <td>500000000000000000000</td>\n",
       "    </tr>\n",
       "  </tbody>\n",
       "</table>\n",
       "</div>"
      ],
      "text/plain": [
       "                                         from  \\\n",
       "0  0x86F05d19063e9369c6004eB3F123943A7cfF4eaB   \n",
       "1  0x3F98e477a361F777DA14611a7e419A75Fd238b6b   \n",
       "\n",
       "                                           to                   value  \n",
       "0  0x2910543Af39abA0Cd09dBb2D50200b3E800A63D2  1900000000000000000000  \n",
       "1  0x2910543Af39abA0Cd09dBb2D50200b3E800A63D2   500000000000000000000  "
      ]
     },
     "execution_count": 13,
     "metadata": {},
     "output_type": "execute_result"
    }
   ],
   "source": [
    "import pandas as pd\n",
    "transactionDF = pd.DataFrame(blockWithTX.transactions)[[\"from\", \"to\", \"value\"]]\n",
    "transactionDF"
   ]
  },
  {
   "cell_type": "markdown",
   "id": "b3b70efd",
   "metadata": {},
   "source": [
    "You can already see that the value column seems to contain very large numbers. This is because they are in the unit **Wei**. One Ether corresponds to 10^18 Wei. So we can convert the column accordingly."
   ]
  },
  {
   "cell_type": "code",
   "execution_count": 14,
   "id": "84cd8eb8",
   "metadata": {},
   "outputs": [],
   "source": [
    "transactionDF[\"value\"] = transactionDF[\"value\"].apply(lambda x: x/10**18)"
   ]
  },
  {
   "cell_type": "code",
   "execution_count": 15,
   "id": "89e3353c",
   "metadata": {},
   "outputs": [
    {
     "data": {
      "text/html": [
       "<div>\n",
       "<style scoped>\n",
       "    .dataframe tbody tr th:only-of-type {\n",
       "        vertical-align: middle;\n",
       "    }\n",
       "\n",
       "    .dataframe tbody tr th {\n",
       "        vertical-align: top;\n",
       "    }\n",
       "\n",
       "    .dataframe thead th {\n",
       "        text-align: right;\n",
       "    }\n",
       "</style>\n",
       "<table border=\"1\" class=\"dataframe\">\n",
       "  <thead>\n",
       "    <tr style=\"text-align: right;\">\n",
       "      <th></th>\n",
       "      <th>from</th>\n",
       "      <th>to</th>\n",
       "      <th>value</th>\n",
       "    </tr>\n",
       "  </thead>\n",
       "  <tbody>\n",
       "    <tr>\n",
       "      <th>0</th>\n",
       "      <td>0x86F05d19063e9369c6004eB3F123943A7cfF4eaB</td>\n",
       "      <td>0x2910543Af39abA0Cd09dBb2D50200b3E800A63D2</td>\n",
       "      <td>1900.0</td>\n",
       "    </tr>\n",
       "    <tr>\n",
       "      <th>1</th>\n",
       "      <td>0x3F98e477a361F777DA14611a7e419A75Fd238b6b</td>\n",
       "      <td>0x2910543Af39abA0Cd09dBb2D50200b3E800A63D2</td>\n",
       "      <td>500.0</td>\n",
       "    </tr>\n",
       "  </tbody>\n",
       "</table>\n",
       "</div>"
      ],
      "text/plain": [
       "                                         from  \\\n",
       "0  0x86F05d19063e9369c6004eB3F123943A7cfF4eaB   \n",
       "1  0x3F98e477a361F777DA14611a7e419A75Fd238b6b   \n",
       "\n",
       "                                           to   value  \n",
       "0  0x2910543Af39abA0Cd09dBb2D50200b3E800A63D2  1900.0  \n",
       "1  0x2910543Af39abA0Cd09dBb2D50200b3E800A63D2   500.0  "
      ]
     },
     "execution_count": 15,
     "metadata": {},
     "output_type": "execute_result"
    }
   ],
   "source": [
    "transactionDF"
   ]
  },
  {
   "cell_type": "code",
   "execution_count": null,
   "id": "b3f262c1",
   "metadata": {},
   "outputs": [],
   "source": []
  }
 ],
 "metadata": {
  "kernelspec": {
   "display_name": "Python 3 (ipykernel)",
   "language": "python",
   "name": "python3"
  },
  "language_info": {
   "codemirror_mode": {
    "name": "ipython",
    "version": 3
   },
   "file_extension": ".py",
   "mimetype": "text/x-python",
   "name": "python",
   "nbconvert_exporter": "python",
   "pygments_lexer": "ipython3",
   "version": "3.9.7"
  }
 },
 "nbformat": 4,
 "nbformat_minor": 5
}
