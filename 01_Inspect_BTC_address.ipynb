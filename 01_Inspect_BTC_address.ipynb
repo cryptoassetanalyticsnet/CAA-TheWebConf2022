{
 "cells": [
  {
   "cell_type": "markdown",
   "id": "d8cab03e",
   "metadata": {},
   "source": [
    "# UTXO Ledgers: Exercise 4 - Inspecting a Bitcoin address"
   ]
  },
  {
   "cell_type": "code",
   "execution_count": 1,
   "id": "faf7eaf3",
   "metadata": {},
   "outputs": [],
   "source": [
    "%load_ext autoreload\n",
    "%autoreload 2"
   ]
  },
  {
   "cell_type": "code",
   "execution_count": 2,
   "id": "consolidated-breach",
   "metadata": {},
   "outputs": [],
   "source": [
    "import json\n",
    "from pprint import pprint\n",
    "\n",
    "import graphsense\n",
    "from graphsense.api import addresses_api, bulk_api, entities_api, general_api"
   ]
  },
  {
   "cell_type": "markdown",
   "id": "2fa83f7e-7d2f-4031-abff-c83d7087935a",
   "metadata": {
    "tags": []
   },
   "source": [
    "## Notebook Setup"
   ]
  },
  {
   "cell_type": "markdown",
   "id": "feb264fa-1cc3-433e-a13c-8b523beaac9d",
   "metadata": {},
   "source": [
    "This notebook assumes that you already followed the instructions outlined in `README.md` and installed the [GraphSense Python API](https://github.com/graphsense/graphsense-python) library locally.\n",
    "\n",
    "First, we must setup our notebook and establish a connection to some hosted GraphSense instance.\n",
    "\n",
    "We connect to a GraphSense instance hosted by [Iknaio](https://www.ikna.io/) and enter our API key in the provided `config.json` configuration file. An API key will be provided during the tutorial. If you would like to get an API key later, drop an email to contact@iknaio.com"
   ]
  },
  {
   "cell_type": "markdown",
   "id": "c2b2ef98-c724-4d6a-91cd-c8c741fcc57c",
   "metadata": {},
   "source": [
    "## Load host and API key from config"
   ]
  },
  {
   "cell_type": "code",
   "execution_count": 3,
   "id": "f56228b5-c581-4076-9feb-d0c38f573dab",
   "metadata": {},
   "outputs": [
    {
     "data": {
      "text/plain": [
       "{'graphsense': {'host': 'https://api.ikna.io/',\n",
       "  'api_key': 'PyTlTKIuo9CrTLR6VjlJRB5Tr22prmmI'}}"
      ]
     },
     "execution_count": 3,
     "metadata": {},
     "output_type": "execute_result"
    }
   ],
   "source": [
    "f = open('config.json')\n",
    "config = json.load(f)\n",
    "f.close()\n",
    "config"
   ]
  },
  {
   "cell_type": "markdown",
   "id": "89c29226-e84e-4817-ab73-5f057fab2957",
   "metadata": {},
   "source": [
    "## Configure GraphSense client"
   ]
  },
  {
   "cell_type": "markdown",
   "id": "7b0810c9-31f2-47ab-8c71-c10e53bcc761",
   "metadata": {},
   "source": [
    "Now we configure the GraphSense Python library"
   ]
  },
  {
   "cell_type": "code",
   "execution_count": 4,
   "id": "illegal-victoria",
   "metadata": {},
   "outputs": [],
   "source": [
    "configuration = graphsense.Configuration(\n",
    "    host = config['graphsense']['host'],\n",
    "    api_key = {'api_key': config['graphsense']['api_key']})"
   ]
  },
  {
   "cell_type": "markdown",
   "id": "deab0739-6f4c-46f3-9aa2-8680d48cc4aa",
   "metadata": {},
   "source": [
    "We can test if our libary is working by retrieving summary statistics on supported ledgers."
   ]
  },
  {
   "cell_type": "code",
   "execution_count": 5,
   "id": "olympic-victory",
   "metadata": {
    "jupyter": {
     "outputs_hidden": true
    },
    "tags": []
   },
   "outputs": [
    {
     "name": "stdout",
     "output_type": "stream",
     "text": [
      "{'currencies': [{'name': 'btc',\n",
      "                 'no_address_relations': 6130165038,\n",
      "                 'no_addresses': 965532532,\n",
      "                 'no_blocks': 732355,\n",
      "                 'no_entities': 441173417,\n",
      "                 'no_labels': 1069,\n",
      "                 'no_tagged_addresses': 156062908,\n",
      "                 'no_txs': 726448123,\n",
      "                 'timestamp': 1650239875},\n",
      "                {'name': 'bch',\n",
      "                 'no_address_relations': 2177670078,\n",
      "                 'no_addresses': 329163172,\n",
      "                 'no_blocks': 734148,\n",
      "                 'no_entities': 149786318,\n",
      "                 'no_labels': 9,\n",
      "                 'no_tagged_addresses': 307782,\n",
      "                 'no_txs': 355677567,\n",
      "                 'timestamp': 1648942357},\n",
      "                {'name': 'ltc',\n",
      "                 'no_address_relations': 1204027150,\n",
      "                 'no_addresses': 131228194,\n",
      "                 'no_blocks': 2238818,\n",
      "                 'no_entities': 56664129,\n",
      "                 'no_labels': 23,\n",
      "                 'no_tagged_addresses': 9261316,\n",
      "                 'no_txs': 110545179,\n",
      "                 'timestamp': 1648943830},\n",
      "                {'name': 'zec',\n",
      "                 'no_address_relations': 98756405,\n",
      "                 'no_addresses': 6791738,\n",
      "                 'no_blocks': 1619805,\n",
      "                 'no_entities': 3293137,\n",
      "                 'no_labels': 8,\n",
      "                 'no_tagged_addresses': 635583,\n",
      "                 'no_txs': 10222274,\n",
      "                 'timestamp': 1648943976},\n",
      "                {'name': 'eth',\n",
      "                 'no_address_relations': 476942304,\n",
      "                 'no_addresses': 214778564,\n",
      "                 'no_blocks': 14509822,\n",
      "                 'no_entities': 0,\n",
      "                 'no_labels': 10991,\n",
      "                 'no_tagged_addresses': 8014,\n",
      "                 'no_txs': 1526056507,\n",
      "                 'timestamp': 1648943999}],\n",
      " 'request_timestamp': '2022-04-21 08:26:35',\n",
      " 'version': '0.5.2'}\n"
     ]
    }
   ],
   "source": [
    "with graphsense.ApiClient(configuration) as api_client:\n",
    "    api_instance = general_api.GeneralApi(api_client)\n",
    "    api_response = api_instance.get_statistics()\n",
    "    pprint(api_response)"
   ]
  },
  {
   "cell_type": "markdown",
   "id": "critical-apparel",
   "metadata": {},
   "source": [
    "# Address API"
   ]
  },
  {
   "cell_type": "markdown",
   "id": "9a08b89f",
   "metadata": {},
   "source": [
    "We start by retrieving some summary statistics on the Internet Archive's donation address. The response basically corresponds to the data shown in the property box of the GraphSense dashboard."
   ]
  },
  {
   "cell_type": "code",
   "execution_count": 6,
   "id": "35595780-4e81-4068-a760-74aac7f63d8e",
   "metadata": {
    "jupyter": {
     "outputs_hidden": true
    },
    "tags": []
   },
   "outputs": [
    {
     "name": "stdout",
     "output_type": "stream",
     "text": [
      "{'address': '1Archive1n2C579dMsAu3iC6tWzuQJz8dN',\n",
      " 'balance': {'fiat_values': [{'code': 'eur', 'value': 44854.36},\n",
      "                             {'code': 'usd', 'value': 48496.07}],\n",
      "             'value': 120219817},\n",
      " 'entity': 2647117,\n",
      " 'first_tx': {'height': 256314,\n",
      "              'timestamp': 1378415426,\n",
      "              'tx_hash': '04d92601677d62a985310b61a301e74870fa942c8be0648e16b1db23b996a8cd'},\n",
      " 'in_degree': 6342,\n",
      " 'last_tx': {'height': 732319,\n",
      "             'timestamp': 1650222879,\n",
      "             'tx_hash': '384ed3216b755e315a6097be19453dec02fbccac9195c50b35f21c35bf2af375'},\n",
      " 'no_incoming_txs': 4805,\n",
      " 'no_outgoing_txs': 274,\n",
      " 'out_degree': 293,\n",
      " 'tags': [{'active': True,\n",
      "           'address': '1Archive1n2C579dMsAu3iC6tWzuQJz8dN',\n",
      "           'category': 'organization',\n",
      "           'currency': 'BTC',\n",
      "           'is_cluster_definer': True,\n",
      "           'is_public': True,\n",
      "           'label': 'internet archive',\n",
      "           'lastmod': 1636675200,\n",
      "           'source': 'https://archive.org/donate/cryptocurrency',\n",
      "           'tagpack_uri': 'demo.yaml'}],\n",
      " 'total_received': {'fiat_values': [{'code': 'eur', 'value': 2464600.5},\n",
      "                                    {'code': 'usd', 'value': 2937580.0}],\n",
      "                    'value': 41257473761},\n",
      " 'total_spent': {'fiat_values': [{'code': 'eur', 'value': 2348113.75},\n",
      "                                 {'code': 'usd', 'value': 2814431.5}],\n",
      "                 'value': 41137253944}}\n"
     ]
    }
   ],
   "source": [
    "with graphsense.ApiClient(configuration) as api_client:\n",
    "    api_instance = addresses_api.AddressesApi(api_client)\n",
    "\n",
    "    currency = \"btc\"\n",
    "    address = '1Archive1n2C579dMsAu3iC6tWzuQJz8dN'\n",
    "    include_tags = True\n",
    "\n",
    "    try:\n",
    "        resp_addr = api_instance.get_address(currency, address, include_tags=include_tags)\n",
    "        pprint(resp_addr)\n",
    "    except graphsense.ApiException as e:\n",
    "        print(\"Exception when calling AddressesApi->get_address: %s\\n\" % e)"
   ]
  },
  {
   "cell_type": "code",
   "execution_count": 7,
   "id": "ba1dcadd-64c1-41d4-8885-0c446f71785b",
   "metadata": {},
   "outputs": [
    {
     "name": "stdout",
     "output_type": "stream",
     "text": [
      "Address 1Archive1n2C579dMsAu3iC6tWzuQJz8dN received 2464600.5 EUR from 6342 addresses.\n"
     ]
    }
   ],
   "source": [
    "print(f\"Address {resp_addr.address} received {resp_addr.total_received.fiat_values[0].value} EUR \" + \n",
    "      f\"from {resp_addr.in_degree} addresses.\")"
   ]
  },
  {
   "cell_type": "markdown",
   "id": "fb4f86e5-9758-4fb5-ba9b-f8024c8f0a41",
   "metadata": {},
   "source": [
    "# Entities API"
   ]
  },
  {
   "cell_type": "markdown",
   "id": "755f4118",
   "metadata": {},
   "source": [
    "Next, we inspect the corresponding entity, which clusters other addresses that are likely conrolled by the owner of that address. The entity ID is contained in the address response."
   ]
  },
  {
   "cell_type": "code",
   "execution_count": 8,
   "id": "75d0df21-3240-413f-b96e-d0568e53af38",
   "metadata": {
    "jupyter": {
     "outputs_hidden": true
    },
    "tags": []
   },
   "outputs": [
    {
     "name": "stdout",
     "output_type": "stream",
     "text": [
      "{'balance': {'fiat_values': [{'code': 'eur', 'value': 44854.36},\n",
      "                             {'code': 'usd', 'value': 48496.07}],\n",
      "             'value': 120219817},\n",
      " 'entity': 2647117,\n",
      " 'first_tx': {'height': 156529,\n",
      "              'timestamp': 1323298692,\n",
      "              'tx_hash': 'dc035c562acc3230cec8c870293c1119d62e60b13932565231dbe5c407ff7508'},\n",
      " 'in_degree': 5138,\n",
      " 'last_tx': {'height': 732319,\n",
      "             'timestamp': 1650222879,\n",
      "             'tx_hash': '384ed3216b755e315a6097be19453dec02fbccac9195c50b35f21c35bf2af375'},\n",
      " 'no_addresses': 120,\n",
      " 'no_incoming_txs': 5683,\n",
      " 'no_outgoing_txs': 287,\n",
      " 'out_degree': 174,\n",
      " 'root_address': '17gN64BPHtxi4mEM3qWrxdwhieUvRq8R2r',\n",
      " 'tags': {'address_tags': [{'active': True,\n",
      "                            'address': '1Archive1n2C579dMsAu3iC6tWzuQJz8dN',\n",
      "                            'category': 'organization',\n",
      "                            'currency': 'BTC',\n",
      "                            'is_cluster_definer': True,\n",
      "                            'is_public': True,\n",
      "                            'label': 'internet archive',\n",
      "                            'lastmod': 1636675200,\n",
      "                            'source': 'https://archive.org/donate/cryptocurrency',\n",
      "                            'tagpack_uri': 'demo.yaml'}],\n",
      "          'entity_tags': [{'active': True,\n",
      "                           'address': '1Archive1n2C579dMsAu3iC6tWzuQJz8dN',\n",
      "                           'category': 'organization',\n",
      "                           'currency': 'BTC',\n",
      "                           'entity': 2647117.0,\n",
      "                           'is_cluster_definer': True,\n",
      "                           'is_public': True,\n",
      "                           'label': 'internet archive',\n",
      "                           'lastmod': 1636675200,\n",
      "                           'source': 'https://archive.org/donate/cryptocurrency',\n",
      "                           'tagpack_uri': 'demo.yaml'}]},\n",
      " 'total_received': {'fiat_values': [{'code': 'eur', 'value': 2496009.75},\n",
      "                                    {'code': 'usd', 'value': 2978020.25}],\n",
      "                    'value': 139902867076},\n",
      " 'total_spent': {'fiat_values': [{'code': 'eur', 'value': 2522882.0},\n",
      "                                 {'code': 'usd', 'value': 3037783.5}],\n",
      "                 'value': 139782647259}}\n"
     ]
    }
   ],
   "source": [
    "with graphsense.ApiClient(configuration) as api_client:\n",
    "    api_instance = entities_api.EntitiesApi(api_client)\n",
    "\n",
    "    currency = \"btc\" \n",
    "    entity = resp_addr.entity \n",
    "    include_tags = True \n",
    "\n",
    "    try:\n",
    "        resp_entity = api_instance.get_entity(currency, entity, include_tags=include_tags)\n",
    "        pprint(resp_entity)\n",
    "    except graphsense.ApiException as e:\n",
    "        print(\"Exception when calling EntitiesApi->get_entity: %s\\n\" % e)"
   ]
  },
  {
   "cell_type": "code",
   "execution_count": 9,
   "id": "541d0ca5-4f0e-48dd-b16d-b3b719ef18e1",
   "metadata": {},
   "outputs": [
    {
     "name": "stdout",
     "output_type": "stream",
     "text": [
      "Entity 2647117 likely controls 120 addresses, which received 2496009.75 EUR from 5138 entities.\n"
     ]
    }
   ],
   "source": [
    "print(f\"Entity {resp_entity.entity} likely controls {resp_entity.no_addresses} addresses, \" +\n",
    "      f\"which received {resp_entity.total_received.fiat_values[0].value} EUR \" + \n",
    "      f\"from {resp_entity.in_degree} entities.\")"
   ]
  },
  {
   "cell_type": "markdown",
   "id": "5d819165-71bc-4191-9a78-5fac1bf80214",
   "metadata": {},
   "source": [
    "# Entity Neighbors"
   ]
  },
  {
   "cell_type": "markdown",
   "id": "16a504c2",
   "metadata": {},
   "source": [
    "Finally, we retrieve all neighbor entities receiving funds from our focus entity. Since it is more covenient to work with dataframes, we use the GraphSense Bulk API interface to retrieve a dataframe of receiving neighbor nodes."
   ]
  },
  {
   "cell_type": "code",
   "execution_count": 10,
   "id": "0dea96aa",
   "metadata": {},
   "outputs": [],
   "source": [
    "import pandas as pd\n",
    "\n",
    "data = {'entity': [resp_addr.entity]}\n",
    "\n",
    "entityDF = pd.DataFrame.from_dict(data)"
   ]
  },
  {
   "cell_type": "code",
   "execution_count": 11,
   "id": "4f81d4c5-991c-494a-b06c-3f194e60e752",
   "metadata": {},
   "outputs": [
    {
     "name": "stdout",
     "output_type": "stream",
     "text": [
      "     _error  _info  _request_entity   balance_eur   balance_usd  \\\n",
      "0       NaN    NaN          2647117  5.080910e+08  5.493428e+08   \n",
      "1       NaN    NaN          2647117  6.571453e+04  7.104988e+04   \n",
      "2       NaN    NaN          2647117  0.000000e+00  0.000000e+00   \n",
      "3       NaN    NaN          2647117  1.011325e+07  1.093434e+07   \n",
      "4       NaN    NaN          2647117  0.000000e+00  0.000000e+00   \n",
      "..      ...    ...              ...           ...           ...   \n",
      "169     NaN    NaN          2647117  3.440400e+02  3.719800e+02   \n",
      "170     NaN    NaN          2647117  1.548500e+02  1.674200e+02   \n",
      "171     NaN    NaN          2647117  0.000000e+00  0.000000e+00   \n",
      "172     NaN    NaN          2647117  0.000000e+00  0.000000e+00   \n",
      "173     NaN    NaN          2647117  0.000000e+00  0.000000e+00   \n",
      "\n",
      "     balance_value         id      labels  labels_count  no_txs node_type  \\\n",
      "0    1361798644690     109577   epay.info             1       2    entity   \n",
      "1        176129799    1084055  bitpay.com             1       1    entity   \n",
      "2                0    2818641         NaN             0       1    entity   \n",
      "3      27105785233    4635850         NaN             0      76    entity   \n",
      "4                0    8361735         NaN             0       3    entity   \n",
      "..             ...        ...         ...           ...     ...       ...   \n",
      "169         922113  763066736         NaN             0       1    entity   \n",
      "170         415022  763066737         NaN             0       1    entity   \n",
      "171              0  834908304         NaN             0       1    entity   \n",
      "172              0  849802069         NaN             0       1    entity   \n",
      "173              0  849817153         NaN             0       1    entity   \n",
      "\n",
      "     received_eur  received_usd    received_value  value_eur  value_usd  \\\n",
      "0    1.143329e+10  1.341041e+10  5211407327476738     750.20     986.69   \n",
      "1    2.241011e+08  2.987126e+08   133520859875540     537.80     673.60   \n",
      "2    2.411060e+03  3.074920e+03       48610000000    2411.06    3074.92   \n",
      "3    1.410918e+11  1.653310e+11  1089021162778230    9999.54   11534.82   \n",
      "4    7.064180e+03  8.517920e+03        7858798000    1078.04    1397.54   \n",
      "..            ...           ...               ...        ...        ...   \n",
      "169  2.967700e+02  3.640100e+02            922113     296.77     364.01   \n",
      "170  1.336300e+02  1.628700e+02            415022      41.20      50.54   \n",
      "171  2.926000e+01  3.568000e+01            100000      29.26      35.68   \n",
      "172  1.723469e+05  2.032602e+05         600000000  172346.92  203260.16   \n",
      "173  2.287182e+05  2.675029e+05         618131591     277.49     328.70   \n",
      "\n",
      "     value_value  \n",
      "0      953789282  \n",
      "1      200000000  \n",
      "2    48610000000  \n",
      "3      252142451  \n",
      "4     3375700000  \n",
      "..           ...  \n",
      "169       922113  \n",
      "170       128022  \n",
      "171       100000  \n",
      "172    600000000  \n",
      "173      1000000  \n",
      "\n",
      "[174 rows x 17 columns]\n"
     ]
    }
   ],
   "source": [
    "with graphsense.ApiClient(configuration) as api_client:\n",
    "    api_instance = bulk_api.BulkApi(api_client)\n",
    "\n",
    "    CURRENCY = \"btc\"\n",
    "    operation = \"list_entity_neighbors\"\n",
    "    body = {'entity': entityDF['entity'].to_list(),\n",
    "            'direction': 'out',\n",
    "            'include_labels': True}\n",
    "\n",
    "    try:\n",
    "        respDF = pd.read_csv(\n",
    "                    api_instance.bulk_csv(CURRENCY, operation, body=body,\n",
    "                                          num_pages=2,\n",
    "                                          _preload_content=False))\n",
    "        pprint(respDF)\n",
    "    except graphsense.ApiException as e:\n",
    "        print(\"Exception when calling BulkApi->bulk_csv: %s\\n\" % e)"
   ]
  },
  {
   "cell_type": "markdown",
   "id": "80a80ffd",
   "metadata": {},
   "source": [
    "We filter the result and see the reltaions between known entity IDs. We also see two known receiving entities."
   ]
  },
  {
   "cell_type": "code",
   "execution_count": 12,
   "id": "a48854f3",
   "metadata": {},
   "outputs": [
    {
     "data": {
      "text/html": [
       "<div>\n",
       "<style scoped>\n",
       "    .dataframe tbody tr th:only-of-type {\n",
       "        vertical-align: middle;\n",
       "    }\n",
       "\n",
       "    .dataframe tbody tr th {\n",
       "        vertical-align: top;\n",
       "    }\n",
       "\n",
       "    .dataframe thead th {\n",
       "        text-align: right;\n",
       "    }\n",
       "</style>\n",
       "<table border=\"1\" class=\"dataframe\">\n",
       "  <thead>\n",
       "    <tr style=\"text-align: right;\">\n",
       "      <th></th>\n",
       "      <th>src</th>\n",
       "      <th>dst</th>\n",
       "      <th>dst_label</th>\n",
       "      <th>no_txs</th>\n",
       "    </tr>\n",
       "  </thead>\n",
       "  <tbody>\n",
       "    <tr>\n",
       "      <th>0</th>\n",
       "      <td>109577</td>\n",
       "      <td>2647117</td>\n",
       "      <td>epay.info</td>\n",
       "      <td>2</td>\n",
       "    </tr>\n",
       "    <tr>\n",
       "      <th>1</th>\n",
       "      <td>1084055</td>\n",
       "      <td>2647117</td>\n",
       "      <td>bitpay.com</td>\n",
       "      <td>1</td>\n",
       "    </tr>\n",
       "    <tr>\n",
       "      <th>2</th>\n",
       "      <td>2818641</td>\n",
       "      <td>2647117</td>\n",
       "      <td>NaN</td>\n",
       "      <td>1</td>\n",
       "    </tr>\n",
       "    <tr>\n",
       "      <th>3</th>\n",
       "      <td>4635850</td>\n",
       "      <td>2647117</td>\n",
       "      <td>NaN</td>\n",
       "      <td>76</td>\n",
       "    </tr>\n",
       "    <tr>\n",
       "      <th>4</th>\n",
       "      <td>8361735</td>\n",
       "      <td>2647117</td>\n",
       "      <td>NaN</td>\n",
       "      <td>3</td>\n",
       "    </tr>\n",
       "    <tr>\n",
       "      <th>...</th>\n",
       "      <td>...</td>\n",
       "      <td>...</td>\n",
       "      <td>...</td>\n",
       "      <td>...</td>\n",
       "    </tr>\n",
       "    <tr>\n",
       "      <th>169</th>\n",
       "      <td>763066736</td>\n",
       "      <td>2647117</td>\n",
       "      <td>NaN</td>\n",
       "      <td>1</td>\n",
       "    </tr>\n",
       "    <tr>\n",
       "      <th>170</th>\n",
       "      <td>763066737</td>\n",
       "      <td>2647117</td>\n",
       "      <td>NaN</td>\n",
       "      <td>1</td>\n",
       "    </tr>\n",
       "    <tr>\n",
       "      <th>171</th>\n",
       "      <td>834908304</td>\n",
       "      <td>2647117</td>\n",
       "      <td>NaN</td>\n",
       "      <td>1</td>\n",
       "    </tr>\n",
       "    <tr>\n",
       "      <th>172</th>\n",
       "      <td>849802069</td>\n",
       "      <td>2647117</td>\n",
       "      <td>NaN</td>\n",
       "      <td>1</td>\n",
       "    </tr>\n",
       "    <tr>\n",
       "      <th>173</th>\n",
       "      <td>849817153</td>\n",
       "      <td>2647117</td>\n",
       "      <td>NaN</td>\n",
       "      <td>1</td>\n",
       "    </tr>\n",
       "  </tbody>\n",
       "</table>\n",
       "<p>174 rows × 4 columns</p>\n",
       "</div>"
      ],
      "text/plain": [
       "           src      dst   dst_label  no_txs\n",
       "0       109577  2647117   epay.info       2\n",
       "1      1084055  2647117  bitpay.com       1\n",
       "2      2818641  2647117         NaN       1\n",
       "3      4635850  2647117         NaN      76\n",
       "4      8361735  2647117         NaN       3\n",
       "..         ...      ...         ...     ...\n",
       "169  763066736  2647117         NaN       1\n",
       "170  763066737  2647117         NaN       1\n",
       "171  834908304  2647117         NaN       1\n",
       "172  849802069  2647117         NaN       1\n",
       "173  849817153  2647117         NaN       1\n",
       "\n",
       "[174 rows x 4 columns]"
      ]
     },
     "execution_count": 12,
     "metadata": {},
     "output_type": "execute_result"
    }
   ],
   "source": [
    "resultDF = respDF[['id', '_request_entity', 'labels', 'no_txs']] \\\n",
    "    .rename(columns={'id': 'src', '_request_entity': 'dst', 'labels': 'dst_label'})\n",
    "resultDF"
   ]
  }
 ],
 "metadata": {
  "kernelspec": {
   "display_name": "Python 3 (ipykernel)",
   "language": "python",
   "name": "python3"
  },
  "language_info": {
   "codemirror_mode": {
    "name": "ipython",
    "version": 3
   },
   "file_extension": ".py",
   "mimetype": "text/x-python",
   "name": "python",
   "nbconvert_exporter": "python",
   "pygments_lexer": "ipython3",
   "version": "3.9.12"
  }
 },
 "nbformat": 4,
 "nbformat_minor": 5
}
